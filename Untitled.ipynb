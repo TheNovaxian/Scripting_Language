{
 "cells": [
  {
   "cell_type": "code",
   "execution_count": 5,
   "id": "d7cc069b-9cbb-4a44-a84c-cf17c35ae65a",
   "metadata": {},
   "outputs": [],
   "source": [
    "happiness_level = 30\n"
   ]
  },
  {
   "cell_type": "code",
   "execution_count": 7,
   "id": "4137deb9-8317-40fc-a718-a74351ca54bb",
   "metadata": {},
   "outputs": [
    {
     "data": {
      "text/plain": [
       "30"
      ]
     },
     "execution_count": 7,
     "metadata": {},
     "output_type": "execute_result"
    }
   ],
   "source": [
    "happiness_level"
   ]
  },
  {
   "cell_type": "code",
   "execution_count": 9,
   "id": "54ac74b7-a801-4ab1-a485-0a837ba289b9",
   "metadata": {},
   "outputs": [
    {
     "name": "stdout",
     "output_type": "stream",
     "text": [
      "30\n"
     ]
    }
   ],
   "source": [
    "print(happiness_level)"
   ]
  },
  {
   "cell_type": "code",
   "execution_count": 13,
   "id": "da220c0e-acec-4a22-99e9-4586e5c471fe",
   "metadata": {},
   "outputs": [],
   "source": [
    "this_is_a_int = 33\n",
    "this_is_a_string = \"big shaq\"\n",
    "this_is_a_bool = True\n",
    "this_is_a_float = 33.7"
   ]
  },
  {
   "cell_type": "code",
   "execution_count": 15,
   "id": "dd51fe13-b9f0-4b55-a24a-0682a0cf9cce",
   "metadata": {},
   "outputs": [
    {
     "data": {
      "text/plain": [
       "True"
      ]
     },
     "execution_count": 15,
     "metadata": {},
     "output_type": "execute_result"
    }
   ],
   "source": [
    "this_is_a_bool\n"
   ]
  },
  {
   "cell_type": "code",
   "execution_count": 17,
   "id": "e157c80b-6848-4b68-bdad-f9178802ec56",
   "metadata": {},
   "outputs": [
    {
     "data": {
      "text/plain": [
       "bool"
      ]
     },
     "execution_count": 17,
     "metadata": {},
     "output_type": "execute_result"
    }
   ],
   "source": [
    "type(this_is_a_bool)"
   ]
  },
  {
   "cell_type": "code",
   "execution_count": 19,
   "id": "9f159eef-6c83-447e-94a1-a5a5f532bc65",
   "metadata": {},
   "outputs": [
    {
     "name": "stdin",
     "output_type": "stream",
     "text": [
      "Enter your favorite food lasagna\n"
     ]
    }
   ],
   "source": [
    "favorite_food = input(\"Enter your favorite food\")"
   ]
  },
  {
   "cell_type": "code",
   "execution_count": 21,
   "id": "676a2842-adbd-4c75-8811-2f54b271ce3d",
   "metadata": {},
   "outputs": [
    {
     "data": {
      "text/plain": [
       "'lasagna'"
      ]
     },
     "execution_count": 21,
     "metadata": {},
     "output_type": "execute_result"
    }
   ],
   "source": [
    "favorite_food\n"
   ]
  },
  {
   "cell_type": "code",
   "execution_count": 23,
   "id": "204edf00-b48e-48fe-8d1d-c460846558e7",
   "metadata": {},
   "outputs": [
    {
     "name": "stdin",
     "output_type": "stream",
     "text": [
      "what is your hourly wage? 5\n"
     ]
    }
   ],
   "source": [
    "hourly_wage = int(input(\"what is your hourly wage?\"))\n"
   ]
  },
  {
   "cell_type": "code",
   "execution_count": 25,
   "id": "f89662ae-584b-434f-8da9-526ac3a9a62d",
   "metadata": {},
   "outputs": [
    {
     "name": "stdout",
     "output_type": "stream",
     "text": [
      "40\n"
     ]
    }
   ],
   "source": [
    "print(hourly_wage * 8)"
   ]
  },
  {
   "cell_type": "code",
   "execution_count": 3,
   "id": "8c3af528-3a4d-477a-b682-53fbb4de6454",
   "metadata": {},
   "outputs": [
    {
     "name": "stdin",
     "output_type": "stream",
     "text": [
      "How are you? great\n"
     ]
    },
    {
     "name": "stdout",
     "output_type": "stream",
     "text": [
      "awesome!\n"
     ]
    }
   ],
   "source": [
    "\n",
    "#this is our awesome calculator\n",
    "mood = input(\"How are you?\")\n",
    "\n",
    "if mood == \"great\":\n",
    "     print(\"awesome!\")\n",
    "else:\n",
    "    print(\"aww\")\n",
    "    "
   ]
  },
  {
   "cell_type": "code",
   "execution_count": 19,
   "id": "99e0a201-5e76-4859-9596-af52de4b7ef4",
   "metadata": {},
   "outputs": [
    {
     "name": "stdin",
     "output_type": "stream",
     "text": [
      "what type of calculation do you want? +,*,-,/ +\n",
      "what is the first value? 12\n",
      "what is the second value? 12\n"
     ]
    },
    {
     "name": "stdout",
     "output_type": "stream",
     "text": [
      "the result is :24.0\n"
     ]
    }
   ],
   "source": [
    "calc_type = input(\"what type of calculation do you want? +,*,-,/\")\n",
    "\n",
    "is_valid = True\n",
    "if calc_type != \"+\" and calc_type != \"-\" and calc_type !=\"*\" and calc_type != \"/\":\n",
    "    is_valid = False\n",
    "    print(\"you didn't enter the right thing\")\n",
    "\n",
    "if is_valid:\n",
    "    first_value = float(input(\"what is the first value?\"))\n",
    "    second_value = float(input(\"what is the second value?\"))\n",
    "\n",
    "if calc_type == \"+\":\n",
    "        print(\"the result is :\" + str(first_value + second_value))\n",
    "elif calc_type == \"-\" :\n",
    "        print(\"the result is :\" + str(first_value - second_value))\n",
    "elif calc_type == \"*\" or calc_type == \"x\":\n",
    "        print(\"the result is :\" + str(first_value * second_value))\n",
    "else:\n",
    "        print(\"the result is :\" + str(first_value / second_value))\n",
    "\n"
   ]
  },
  {
   "cell_type": "code",
   "execution_count": null,
   "id": "73294d9b-ab27-448a-920d-67167dd1d57c",
   "metadata": {},
   "outputs": [],
   "source": [
    "#Recap\n",
    "\n",
    "#built-in functions\n",
    "print(\"this will print to the console\")\n",
    "my_input = input(\"enter something\")\n",
    "\n",
    "#convert from one type to another\n",
    "my_int = int(\"33\")#converts the string to int 33\n",
    "#similarly you can convert between float and int, etc.\n",
    "my_float = float(33) #becomes 33.0\n",
    "\n",
    "#operations\n",
    "\"bobby\" + \" \" + \"connolly\" #string concatenation\n",
    "\n",
    "3 + \"4\" #error\n",
    "3 + int(\"4\") #now it's happy\n",
    "\n",
    "is_admin = False\n",
    "if is_admin:\n",
    "    print(\"ok you have admin privileges\")\n",
    "else:\n",
    "    print(\"you dont have access\")\n",
    "\n",
    "#// is integer division"
   ]
  },
  {
   "cell_type": "code",
   "execution_count": null,
   "id": "573a6e40-cd61-4a5b-84a7-bba08438b572",
   "metadata": {},
   "outputs": [],
   "source": []
  },
  {
   "cell_type": "code",
   "execution_count": null,
   "id": "634cff52-aa9d-477b-99d4-6970666d874a",
   "metadata": {},
   "outputs": [],
   "source": []
  },
  {
   "cell_type": "code",
   "execution_count": null,
   "id": "3b050e63-a69e-48d5-96ec-40fb53a4f113",
   "metadata": {},
   "outputs": [],
   "source": []
  },
  {
   "cell_type": "code",
   "execution_count": null,
   "id": "d394a2e9-52f3-45b6-a267-5571b18c0ed2",
   "metadata": {},
   "outputs": [],
   "source": []
  },
  {
   "cell_type": "code",
   "execution_count": null,
   "id": "951f42a9-1c56-45f9-84f4-97f74ede8c27",
   "metadata": {},
   "outputs": [],
   "source": []
  },
  {
   "cell_type": "code",
   "execution_count": null,
   "id": "d8db1a39-bbcf-4a64-b28b-a2bd3227da6e",
   "metadata": {},
   "outputs": [],
   "source": []
  },
  {
   "cell_type": "code",
   "execution_count": 40,
   "id": "c5035daa-a500-4ffe-8bfd-6747b7524696",
   "metadata": {},
   "outputs": [
    {
     "data": {
      "text/plain": [
       "'sweaty'"
      ]
     },
     "execution_count": 40,
     "metadata": {},
     "output_type": "execute_result"
    }
   ],
   "source": [
    "temperature = 22.5\n",
    "weather_description = \"sunny\"\n",
    "humidity = 73\n",
    "\n",
    "humidity_description = \"sweaty\" if humidity > 70 else \"dry\"\n",
    "humidity_description"
   ]
  },
  {
   "cell_type": "code",
   "execution_count": 50,
   "id": "640bd890-9c1a-4b3e-b843-4573a1f3658e",
   "metadata": {},
   "outputs": [
    {
     "name": "stdin",
     "output_type": "stream",
     "text": [
      "what is your name? shaq\n"
     ]
    },
    {
     "name": "stdout",
     "output_type": "stream",
     "text": [
      "hi shaq, how are you? the weather is sunny and it's sweaty\n"
     ]
    }
   ],
   "source": [
    "name = input(\"what is your name?\")\n",
    "print (\"hi \" + name + \", how are you? the weather is \" + weather_description + \" and it's \" + humidity_description)"
   ]
  },
  {
   "cell_type": "code",
   "execution_count": 16,
   "id": "d6815760-d60b-4df2-ab1e-6f87364d8190",
   "metadata": {},
   "outputs": [
    {
     "name": "stdin",
     "output_type": "stream",
     "text": [
      "Press 1 for measurements in pounds/inches or 2 for measurments in kg and metres 5\n"
     ]
    },
    {
     "name": "stdout",
     "output_type": "stream",
     "text": [
      "incorrect choice, try again!\n"
     ]
    },
    {
     "name": "stdin",
     "output_type": "stream",
     "text": [
      "Press 1 for measurements in pounds/inches or 2 for measurments in kg and metres 1\n",
      "what is your weight in lbs? 1\n",
      "what is your height in ft? 1\n"
     ]
    },
    {
     "name": "stdout",
     "output_type": "stream",
     "text": [
      "you are underweight\n"
     ]
    }
   ],
   "source": [
    "lbs_kg = 0.45359237\n",
    "ft_m = 0.3048\n",
    "\n",
    "choice = input(\"Press 1 for measurements in pounds/inches or 2 for measurments in kg and metres\")\n",
    "while choice != \"1\" and choice != \"2\":\n",
    "        print(\"incorrect choice, try again!\")\n",
    "        choice = input(\"Press 1 for measurements in pounds/inches or 2 for measurments in kg and metres\")\n",
    "\n",
    "if choice == \"1\":\n",
    "    your_weight_kg = float(input(\"what is your weight in lbs?\")) * lbs_kg\n",
    "    your_height_m = float(input(\"what is your height in ft?\"))  * ft_m\n",
    "    BMI = your_weight_kg/(your_height_m * your_height_m)\n",
    "\n",
    "else:\n",
    "    your_weight = float(input(\"what is your weight in kg?\"))\n",
    "    your_height = float(input(\"what is your height in metres?\"))\n",
    "    BMI = your_weight/(your_height * your_height)\n",
    "\n",
    "\n",
    "if BMI < 18.5 :\n",
    "    print(\"you are underweight\")\n",
    "elif 18.5 <= BMI < 25 :\n",
    "    print(\"you are normal weight\")\n",
    "elif 25 <= BMI < 30  :\n",
    "    print(\"you are Overweight\")\n",
    "else:\n",
    "    print(\"you are Obese!\")\n"
   ]
  },
  {
   "cell_type": "code",
   "execution_count": null,
   "id": "8c3a417b-6dc2-4c42-8655-0ebbf79113b7",
   "metadata": {},
   "outputs": [],
   "source": []
  },
  {
   "cell_type": "code",
   "execution_count": 5,
   "id": "263bf67b-53fc-48d9-a32d-ffc81adedbae",
   "metadata": {},
   "outputs": [
    {
     "name": "stdout",
     "output_type": "stream",
     "text": [
      "There are 10 seconds remaining\n",
      "There are 9 seconds remaining\n",
      "There are 8 seconds remaining\n",
      "There are 7 seconds remaining\n",
      "There are 6 seconds remaining\n",
      "There are 5 seconds remaining\n",
      "There are 4 seconds remaining\n",
      "There are 3 seconds remaining\n",
      "There are 2 seconds remaining\n",
      "There are 1 seconds remaining\n"
     ]
    }
   ],
   "source": [
    "for i in range(10,0, -1):\n",
    "   print(f\"There are {i} seconds remaining\")"
   ]
  },
  {
   "cell_type": "code",
   "execution_count": 7,
   "id": "8d6beb59-6510-48b0-bbae-97aacb2c148e",
   "metadata": {},
   "outputs": [
    {
     "name": "stdout",
     "output_type": "stream",
     "text": [
      "my cat's name is ginger\n",
      "my cat's name is ginger \n"
     ]
    }
   ],
   "source": [
    "cat = \"ginger\"\n",
    "\n",
    "print(\"my cat's name is \" + cat)\n",
    "print(f\"my cat's name is {cat} \")"
   ]
  },
  {
   "cell_type": "code",
   "execution_count": 19,
   "id": "d1ac020b-b3cb-4bc3-957f-41d44532d723",
   "metadata": {},
   "outputs": [
    {
     "name": "stdout",
     "output_type": "stream",
     "text": [
      "10\n",
      "8\n",
      "6\n",
      "4\n",
      "2\n"
     ]
    }
   ],
   "source": [
    "for i in range(10,0, -1):\n",
    "   if i % 2 == 0:\n",
    "       print(i)\n",
    "    "
   ]
  },
  {
   "cell_type": "code",
   "execution_count": null,
   "id": "1bec4773-169c-49a5-97de-368ea06acf52",
   "metadata": {},
   "outputs": [],
   "source": []
  },
  {
   "cell_type": "code",
   "execution_count": null,
   "id": "f697bcbe-2fe0-4b4a-94e9-e7ffef896b10",
   "metadata": {},
   "outputs": [
    {
     "name": "stdin",
     "output_type": "stream",
     "text": [
      "Please make a guess between 0 and 3 3\n"
     ]
    },
    {
     "name": "stdout",
     "output_type": "stream",
     "text": [
      "Your guess of 3 is too high\n",
      "You have 9 attempts left\n"
     ]
    },
    {
     "name": "stdin",
     "output_type": "stream",
     "text": [
      "Please make a guess between 0 and 3 2\n"
     ]
    },
    {
     "name": "stdout",
     "output_type": "stream",
     "text": [
      "You guessed it in 1 attempts !!\n"
     ]
    },
    {
     "name": "stdin",
     "output_type": "stream",
     "text": [
      "do you want to play again? press y for yes and n for no y\n",
      "Difficulty : 1 = easy, 2 = hard, 3 = insane 3\n"
     ]
    }
   ],
   "source": [
    "\n",
    "#guess the number game\n",
    "#system picks a random number between x and y, unkown to the user\n",
    "#user tries to repeatedly guess the numbers\n",
    "#system gives user hints if their guess was low or high\n",
    "import random\n",
    "upper = 3\n",
    "number =random.randint(1,upper)\n",
    "attempts = 0\n",
    "attempts_left = 10\n",
    "\n",
    "\n",
    "\n",
    "while True:\n",
    "    if attempts_left == 0:\n",
    "        print(\"You are out of attempts, Game Over!!\")\n",
    "        break;\n",
    "        \n",
    " \n",
    "   \n",
    "    try:\n",
    "        guess = int(input(f\"Please make a guess between 0 and {upper}\")) \n",
    "    except:\n",
    "        print(\"Invalid input, please enter an integer\")\n",
    "\n",
    "    else:\n",
    "        if guess > number:\n",
    "            print(f\"Your guess of {guess} is too high\")\n",
    "            attempts = attempts + 1\n",
    "            attempts_left = attempts_left - 1\n",
    "            print(f\"You have {attempts_left} attempts left\")\n",
    "        elif guess < number:\n",
    "            print(f\"Your guess of {guess} is too low\")\n",
    "            attempts = attempts + 1\n",
    "            attempts_left = attempts_left - 1\n",
    "            print(f\"You have {attempts_left} attempts left\")\n",
    "        elif attempts_left == 0:\n",
    "            print(\"You are out of attempts, Game Over!!\")\n",
    "            break;\n",
    "        else:    \n",
    "            print(f\"You guessed it in {attempts} attempts !!\")\n",
    "            q = input(\"do you want to play again? press y for yes and n for no\")\n",
    "            if q == \"y\" or q == \"Y\" :\n",
    "                choice = int(input(\"Difficulty : 1 = easy, 2 = hard, 3 = insane\"))\n",
    "                if choice == 1:\n",
    "                 upper = random.randint(1,100)\n",
    "                elif choice == 2:\n",
    "                     upper = random.randint(1,500)\n",
    "                else:\n",
    "                     upper = random.randint(1,1000)\n",
    "                     continue;\n",
    "            else:\n",
    "                print(\"Good bye!!\")\n",
    "                break;"
   ]
  },
  {
   "cell_type": "code",
   "execution_count": null,
   "id": "b2fb1c76-4550-4abb-a22c-c761929e291f",
   "metadata": {},
   "outputs": [],
   "source": []
  },
  {
   "cell_type": "code",
   "execution_count": 3,
   "id": "2d8f032f-7cb0-4c6b-aacf-97b58e9b2144",
   "metadata": {},
   "outputs": [
    {
     "ename": "IndentationError",
     "evalue": "unexpected indent (1193274500.py, line 22)",
     "output_type": "error",
     "traceback": [
      "\u001b[1;36m  Cell \u001b[1;32mIn[3], line 22\u001b[1;36m\u001b[0m\n\u001b[1;33m    if guess > number:\u001b[0m\n\u001b[1;37m    ^\u001b[0m\n\u001b[1;31mIndentationError\u001b[0m\u001b[1;31m:\u001b[0m unexpected indent\n"
     ]
    }
   ],
   "source": []
  },
  {
   "cell_type": "code",
   "execution_count": null,
   "id": "1ba0bb9c-3bae-49d9-a75c-eb0958d1c4d5",
   "metadata": {},
   "outputs": [],
   "source": []
  },
  {
   "cell_type": "code",
   "execution_count": null,
   "id": "7ceeb05a-5dd1-46e3-b42c-320069c6670b",
   "metadata": {},
   "outputs": [],
   "source": []
  },
  {
   "cell_type": "code",
   "execution_count": null,
   "id": "e693f4d4-9fc4-4545-9662-fbb3a2aebfc8",
   "metadata": {},
   "outputs": [],
   "source": []
  },
  {
   "cell_type": "code",
   "execution_count": null,
   "id": "369f5f81-9bab-41c2-9d0b-6af7bfab7518",
   "metadata": {},
   "outputs": [],
   "source": []
  }
 ],
 "metadata": {
  "kernelspec": {
   "display_name": "Python 3 (ipykernel)",
   "language": "python",
   "name": "python3"
  },
  "language_info": {
   "codemirror_mode": {
    "name": "ipython",
    "version": 3
   },
   "file_extension": ".py",
   "mimetype": "text/x-python",
   "name": "python",
   "nbconvert_exporter": "python",
   "pygments_lexer": "ipython3",
   "version": "3.12.4"
  }
 },
 "nbformat": 4,
 "nbformat_minor": 5
}
